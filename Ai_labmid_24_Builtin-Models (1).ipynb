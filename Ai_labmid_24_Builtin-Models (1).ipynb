{
 "cells": [
  {
   "cell_type": "markdown",
   "metadata": {},
   "source": [
    "Importing the necessary libraries"
   ]
  },
  {
   "cell_type": "code",
   "execution_count": 2,
   "metadata": {
    "id": "5m1_uFoPNJ7n"
   },
   "outputs": [],
   "source": [
    "import pandas as pd\n",
    "import numpy as np\n",
    "import matplotlib.pyplot as plt"
   ]
  },
  {
   "cell_type": "markdown",
   "metadata": {},
   "source": [
    "Importing the dataset:"
   ]
  },
  {
   "cell_type": "code",
   "execution_count": 3,
   "metadata": {
    "colab": {
     "base_uri": "https://localhost:8080/",
     "height": 399
    },
    "id": "DCyKsX6EN1Og",
    "outputId": "2e173cc7-8ced-4662-968b-a14c96a45b82"
   },
   "outputs": [
    {
     "data": {
      "text/html": [
       "<div>\n",
       "<style scoped>\n",
       "    .dataframe tbody tr th:only-of-type {\n",
       "        vertical-align: middle;\n",
       "    }\n",
       "\n",
       "    .dataframe tbody tr th {\n",
       "        vertical-align: top;\n",
       "    }\n",
       "\n",
       "    .dataframe thead th {\n",
       "        text-align: right;\n",
       "    }\n",
       "</style>\n",
       "<table border=\"1\" class=\"dataframe\">\n",
       "  <thead>\n",
       "    <tr style=\"text-align: right;\">\n",
       "      <th></th>\n",
       "      <th>timestamp</th>\n",
       "      <th>hour_of_day</th>\n",
       "      <th>sending_address</th>\n",
       "      <th>receiving_address</th>\n",
       "      <th>amount</th>\n",
       "      <th>transaction_type</th>\n",
       "      <th>location_region</th>\n",
       "      <th>ip_prefix</th>\n",
       "      <th>login_frequency</th>\n",
       "      <th>session_duration</th>\n",
       "      <th>purchase_pattern</th>\n",
       "      <th>age_group</th>\n",
       "      <th>risk_score</th>\n",
       "      <th>anomaly</th>\n",
       "    </tr>\n",
       "  </thead>\n",
       "  <tbody>\n",
       "    <tr>\n",
       "      <th>0</th>\n",
       "      <td>2022-04-11 12:47:27</td>\n",
       "      <td>12</td>\n",
       "      <td>0x9d32d0bf2c00f41ce7ca01b66e174cc4dcb0c1da</td>\n",
       "      <td>0x39f82e1c09bc6d7baccc1e79e5621ff812f50572</td>\n",
       "      <td>796.949206</td>\n",
       "      <td>transfer</td>\n",
       "      <td>Europe</td>\n",
       "      <td>192.000</td>\n",
       "      <td>3</td>\n",
       "      <td>48</td>\n",
       "      <td>focused</td>\n",
       "      <td>established</td>\n",
       "      <td>18.75</td>\n",
       "      <td>low_risk</td>\n",
       "    </tr>\n",
       "    <tr>\n",
       "      <th>1</th>\n",
       "      <td>2022-06-14 19:12:46</td>\n",
       "      <td>19</td>\n",
       "      <td>0xd6e251c23cbf52dbd472f079147873e655d8096f</td>\n",
       "      <td>0x51e8fbe24f124e0e30a614e14401b9bbfed5384c</td>\n",
       "      <td>0.010000</td>\n",
       "      <td>purchase</td>\n",
       "      <td>South America</td>\n",
       "      <td>172.000</td>\n",
       "      <td>5</td>\n",
       "      <td>61</td>\n",
       "      <td>focused</td>\n",
       "      <td>established</td>\n",
       "      <td>25.00</td>\n",
       "      <td>low_risk</td>\n",
       "    </tr>\n",
       "    <tr>\n",
       "      <th>2</th>\n",
       "      <td>2022-01-18 16:26:59</td>\n",
       "      <td>16</td>\n",
       "      <td>0x2e0925b922fed01f6a85d213ae2718f54b8ca305</td>\n",
       "      <td>0x52c7911879f783d590af45bda0c0ef2b8536706f</td>\n",
       "      <td>778.197390</td>\n",
       "      <td>purchase</td>\n",
       "      <td>Asia</td>\n",
       "      <td>192.168</td>\n",
       "      <td>3</td>\n",
       "      <td>74</td>\n",
       "      <td>focused</td>\n",
       "      <td>established</td>\n",
       "      <td>31.25</td>\n",
       "      <td>low_risk</td>\n",
       "    </tr>\n",
       "    <tr>\n",
       "      <th>3</th>\n",
       "      <td>2022-06-15 09:20:04</td>\n",
       "      <td>9</td>\n",
       "      <td>0x93efefc25fcaf31d7695f28018d7a11ece55457f</td>\n",
       "      <td>0x8ac3b7bd531b3a833032f07d4e47c7af6ea7bace</td>\n",
       "      <td>300.838358</td>\n",
       "      <td>transfer</td>\n",
       "      <td>South America</td>\n",
       "      <td>172.000</td>\n",
       "      <td>8</td>\n",
       "      <td>111</td>\n",
       "      <td>high_value</td>\n",
       "      <td>veteran</td>\n",
       "      <td>36.75</td>\n",
       "      <td>low_risk</td>\n",
       "    </tr>\n",
       "    <tr>\n",
       "      <th>4</th>\n",
       "      <td>2022-02-18 14:35:30</td>\n",
       "      <td>14</td>\n",
       "      <td>0xad3b8de45d63f5cce28aef9a82cf30c397c6ceb9</td>\n",
       "      <td>0x6fdc047c2391615b3facd79b4588c7e9106e49f2</td>\n",
       "      <td>775.569344</td>\n",
       "      <td>sale</td>\n",
       "      <td>Africa</td>\n",
       "      <td>172.160</td>\n",
       "      <td>6</td>\n",
       "      <td>100</td>\n",
       "      <td>high_value</td>\n",
       "      <td>veteran</td>\n",
       "      <td>62.50</td>\n",
       "      <td>moderate_risk</td>\n",
       "    </tr>\n",
       "  </tbody>\n",
       "</table>\n",
       "</div>"
      ],
      "text/plain": [
       "             timestamp  hour_of_day  \\\n",
       "0  2022-04-11 12:47:27           12   \n",
       "1  2022-06-14 19:12:46           19   \n",
       "2  2022-01-18 16:26:59           16   \n",
       "3  2022-06-15 09:20:04            9   \n",
       "4  2022-02-18 14:35:30           14   \n",
       "\n",
       "                              sending_address  \\\n",
       "0  0x9d32d0bf2c00f41ce7ca01b66e174cc4dcb0c1da   \n",
       "1  0xd6e251c23cbf52dbd472f079147873e655d8096f   \n",
       "2  0x2e0925b922fed01f6a85d213ae2718f54b8ca305   \n",
       "3  0x93efefc25fcaf31d7695f28018d7a11ece55457f   \n",
       "4  0xad3b8de45d63f5cce28aef9a82cf30c397c6ceb9   \n",
       "\n",
       "                            receiving_address      amount transaction_type  \\\n",
       "0  0x39f82e1c09bc6d7baccc1e79e5621ff812f50572  796.949206         transfer   \n",
       "1  0x51e8fbe24f124e0e30a614e14401b9bbfed5384c    0.010000         purchase   \n",
       "2  0x52c7911879f783d590af45bda0c0ef2b8536706f  778.197390         purchase   \n",
       "3  0x8ac3b7bd531b3a833032f07d4e47c7af6ea7bace  300.838358         transfer   \n",
       "4  0x6fdc047c2391615b3facd79b4588c7e9106e49f2  775.569344             sale   \n",
       "\n",
       "  location_region  ip_prefix  login_frequency  session_duration  \\\n",
       "0          Europe    192.000                3                48   \n",
       "1   South America    172.000                5                61   \n",
       "2            Asia    192.168                3                74   \n",
       "3   South America    172.000                8               111   \n",
       "4          Africa    172.160                6               100   \n",
       "\n",
       "  purchase_pattern    age_group  risk_score        anomaly  \n",
       "0          focused  established       18.75       low_risk  \n",
       "1          focused  established       25.00       low_risk  \n",
       "2          focused  established       31.25       low_risk  \n",
       "3       high_value      veteran       36.75       low_risk  \n",
       "4       high_value      veteran       62.50  moderate_risk  "
      ]
     },
     "execution_count": 3,
     "metadata": {},
     "output_type": "execute_result"
    }
   ],
   "source": [
    "df= pd.read_csv(r\"C:\\Users\\Dell Pc\\Downloads\\metaverse_transactions_dataset.csv\")\n",
    "df.head(5)"
   ]
  },
  {
   "cell_type": "markdown",
   "metadata": {},
   "source": [
    "Dropping the couloumns that aren't of any use for the model"
   ]
  },
  {
   "cell_type": "code",
   "execution_count": 4,
   "metadata": {
    "colab": {
     "base_uri": "https://localhost:8080/",
     "height": 206
    },
    "id": "bqiXIi3jN4Oq",
    "outputId": "8f7a3a6a-4d70-41e4-c762-1020515336c0"
   },
   "outputs": [
    {
     "data": {
      "text/html": [
       "<div>\n",
       "<style scoped>\n",
       "    .dataframe tbody tr th:only-of-type {\n",
       "        vertical-align: middle;\n",
       "    }\n",
       "\n",
       "    .dataframe tbody tr th {\n",
       "        vertical-align: top;\n",
       "    }\n",
       "\n",
       "    .dataframe thead th {\n",
       "        text-align: right;\n",
       "    }\n",
       "</style>\n",
       "<table border=\"1\" class=\"dataframe\">\n",
       "  <thead>\n",
       "    <tr style=\"text-align: right;\">\n",
       "      <th></th>\n",
       "      <th>hour_of_day</th>\n",
       "      <th>amount</th>\n",
       "      <th>transaction_type</th>\n",
       "      <th>location_region</th>\n",
       "      <th>ip_prefix</th>\n",
       "      <th>login_frequency</th>\n",
       "      <th>session_duration</th>\n",
       "      <th>purchase_pattern</th>\n",
       "      <th>age_group</th>\n",
       "      <th>risk_score</th>\n",
       "      <th>anomaly</th>\n",
       "    </tr>\n",
       "  </thead>\n",
       "  <tbody>\n",
       "    <tr>\n",
       "      <th>0</th>\n",
       "      <td>12</td>\n",
       "      <td>796.949206</td>\n",
       "      <td>transfer</td>\n",
       "      <td>Europe</td>\n",
       "      <td>192.000</td>\n",
       "      <td>3</td>\n",
       "      <td>48</td>\n",
       "      <td>focused</td>\n",
       "      <td>established</td>\n",
       "      <td>18.75</td>\n",
       "      <td>low_risk</td>\n",
       "    </tr>\n",
       "    <tr>\n",
       "      <th>1</th>\n",
       "      <td>19</td>\n",
       "      <td>0.010000</td>\n",
       "      <td>purchase</td>\n",
       "      <td>South America</td>\n",
       "      <td>172.000</td>\n",
       "      <td>5</td>\n",
       "      <td>61</td>\n",
       "      <td>focused</td>\n",
       "      <td>established</td>\n",
       "      <td>25.00</td>\n",
       "      <td>low_risk</td>\n",
       "    </tr>\n",
       "    <tr>\n",
       "      <th>2</th>\n",
       "      <td>16</td>\n",
       "      <td>778.197390</td>\n",
       "      <td>purchase</td>\n",
       "      <td>Asia</td>\n",
       "      <td>192.168</td>\n",
       "      <td>3</td>\n",
       "      <td>74</td>\n",
       "      <td>focused</td>\n",
       "      <td>established</td>\n",
       "      <td>31.25</td>\n",
       "      <td>low_risk</td>\n",
       "    </tr>\n",
       "    <tr>\n",
       "      <th>3</th>\n",
       "      <td>9</td>\n",
       "      <td>300.838358</td>\n",
       "      <td>transfer</td>\n",
       "      <td>South America</td>\n",
       "      <td>172.000</td>\n",
       "      <td>8</td>\n",
       "      <td>111</td>\n",
       "      <td>high_value</td>\n",
       "      <td>veteran</td>\n",
       "      <td>36.75</td>\n",
       "      <td>low_risk</td>\n",
       "    </tr>\n",
       "    <tr>\n",
       "      <th>4</th>\n",
       "      <td>14</td>\n",
       "      <td>775.569344</td>\n",
       "      <td>sale</td>\n",
       "      <td>Africa</td>\n",
       "      <td>172.160</td>\n",
       "      <td>6</td>\n",
       "      <td>100</td>\n",
       "      <td>high_value</td>\n",
       "      <td>veteran</td>\n",
       "      <td>62.50</td>\n",
       "      <td>moderate_risk</td>\n",
       "    </tr>\n",
       "  </tbody>\n",
       "</table>\n",
       "</div>"
      ],
      "text/plain": [
       "   hour_of_day      amount transaction_type location_region  ip_prefix  \\\n",
       "0           12  796.949206         transfer          Europe    192.000   \n",
       "1           19    0.010000         purchase   South America    172.000   \n",
       "2           16  778.197390         purchase            Asia    192.168   \n",
       "3            9  300.838358         transfer   South America    172.000   \n",
       "4           14  775.569344             sale          Africa    172.160   \n",
       "\n",
       "   login_frequency  session_duration purchase_pattern    age_group  \\\n",
       "0                3                48          focused  established   \n",
       "1                5                61          focused  established   \n",
       "2                3                74          focused  established   \n",
       "3                8               111       high_value      veteran   \n",
       "4                6               100       high_value      veteran   \n",
       "\n",
       "   risk_score        anomaly  \n",
       "0       18.75       low_risk  \n",
       "1       25.00       low_risk  \n",
       "2       31.25       low_risk  \n",
       "3       36.75       low_risk  \n",
       "4       62.50  moderate_risk  "
      ]
     },
     "execution_count": 4,
     "metadata": {},
     "output_type": "execute_result"
    }
   ],
   "source": [
    "dropcl=['sending_address', 'receiving_address', 'timestamp']\n",
    "df = df.drop(columns=dropcl)\n",
    "df.head(5)"
   ]
  },
  {
   "cell_type": "markdown",
   "metadata": {},
   "source": [
    "### Scaling numerical coloumns "
   ]
  },
  {
   "cell_type": "markdown",
   "metadata": {},
   "source": [
    "We use MinMaxScaler to scale the numerical columns to a specified range. We are normalizing the values between 0 and 1, so that no paritcular feature dominates solely based on its magnitude thereby previnting bias in the model towards variables with larger scales"
   ]
  },
  {
   "cell_type": "code",
   "execution_count": 5,
   "metadata": {
    "colab": {
     "base_uri": "https://localhost:8080/",
     "height": 206
    },
    "id": "kC1WK-oeJHUq",
    "outputId": "c9f633bb-bc11-4e37-9694-c1b40f4e7173"
   },
   "outputs": [
    {
     "data": {
      "text/html": [
       "<div>\n",
       "<style scoped>\n",
       "    .dataframe tbody tr th:only-of-type {\n",
       "        vertical-align: middle;\n",
       "    }\n",
       "\n",
       "    .dataframe tbody tr th {\n",
       "        vertical-align: top;\n",
       "    }\n",
       "\n",
       "    .dataframe thead th {\n",
       "        text-align: right;\n",
       "    }\n",
       "</style>\n",
       "<table border=\"1\" class=\"dataframe\">\n",
       "  <thead>\n",
       "    <tr style=\"text-align: right;\">\n",
       "      <th></th>\n",
       "      <th>hour_of_day</th>\n",
       "      <th>amount</th>\n",
       "      <th>transaction_type</th>\n",
       "      <th>location_region</th>\n",
       "      <th>ip_prefix</th>\n",
       "      <th>login_frequency</th>\n",
       "      <th>session_duration</th>\n",
       "      <th>purchase_pattern</th>\n",
       "      <th>age_group</th>\n",
       "      <th>risk_score</th>\n",
       "      <th>anomaly</th>\n",
       "    </tr>\n",
       "  </thead>\n",
       "  <tbody>\n",
       "    <tr>\n",
       "      <th>0</th>\n",
       "      <td>0.521739</td>\n",
       "      <td>0.511796</td>\n",
       "      <td>transfer</td>\n",
       "      <td>Europe</td>\n",
       "      <td>0.999078</td>\n",
       "      <td>0.285714</td>\n",
       "      <td>0.201439</td>\n",
       "      <td>focused</td>\n",
       "      <td>established</td>\n",
       "      <td>18.75</td>\n",
       "      <td>low_risk</td>\n",
       "    </tr>\n",
       "    <tr>\n",
       "      <th>1</th>\n",
       "      <td>0.826087</td>\n",
       "      <td>0.000000</td>\n",
       "      <td>purchase</td>\n",
       "      <td>South America</td>\n",
       "      <td>0.889289</td>\n",
       "      <td>0.571429</td>\n",
       "      <td>0.294964</td>\n",
       "      <td>focused</td>\n",
       "      <td>established</td>\n",
       "      <td>25.00</td>\n",
       "      <td>low_risk</td>\n",
       "    </tr>\n",
       "    <tr>\n",
       "      <th>2</th>\n",
       "      <td>0.695652</td>\n",
       "      <td>0.499754</td>\n",
       "      <td>purchase</td>\n",
       "      <td>Asia</td>\n",
       "      <td>1.000000</td>\n",
       "      <td>0.285714</td>\n",
       "      <td>0.388489</td>\n",
       "      <td>focused</td>\n",
       "      <td>established</td>\n",
       "      <td>31.25</td>\n",
       "      <td>low_risk</td>\n",
       "    </tr>\n",
       "    <tr>\n",
       "      <th>3</th>\n",
       "      <td>0.391304</td>\n",
       "      <td>0.193193</td>\n",
       "      <td>transfer</td>\n",
       "      <td>South America</td>\n",
       "      <td>0.889289</td>\n",
       "      <td>1.000000</td>\n",
       "      <td>0.654676</td>\n",
       "      <td>high_value</td>\n",
       "      <td>veteran</td>\n",
       "      <td>36.75</td>\n",
       "      <td>low_risk</td>\n",
       "    </tr>\n",
       "    <tr>\n",
       "      <th>4</th>\n",
       "      <td>0.608696</td>\n",
       "      <td>0.498066</td>\n",
       "      <td>sale</td>\n",
       "      <td>Africa</td>\n",
       "      <td>0.890167</td>\n",
       "      <td>0.714286</td>\n",
       "      <td>0.575540</td>\n",
       "      <td>high_value</td>\n",
       "      <td>veteran</td>\n",
       "      <td>62.50</td>\n",
       "      <td>moderate_risk</td>\n",
       "    </tr>\n",
       "  </tbody>\n",
       "</table>\n",
       "</div>"
      ],
      "text/plain": [
       "   hour_of_day    amount transaction_type location_region  ip_prefix  \\\n",
       "0     0.521739  0.511796         transfer          Europe   0.999078   \n",
       "1     0.826087  0.000000         purchase   South America   0.889289   \n",
       "2     0.695652  0.499754         purchase            Asia   1.000000   \n",
       "3     0.391304  0.193193         transfer   South America   0.889289   \n",
       "4     0.608696  0.498066             sale          Africa   0.890167   \n",
       "\n",
       "   login_frequency  session_duration purchase_pattern    age_group  \\\n",
       "0         0.285714          0.201439          focused  established   \n",
       "1         0.571429          0.294964          focused  established   \n",
       "2         0.285714          0.388489          focused  established   \n",
       "3         1.000000          0.654676       high_value      veteran   \n",
       "4         0.714286          0.575540       high_value      veteran   \n",
       "\n",
       "   risk_score        anomaly  \n",
       "0       18.75       low_risk  \n",
       "1       25.00       low_risk  \n",
       "2       31.25       low_risk  \n",
       "3       36.75       low_risk  \n",
       "4       62.50  moderate_risk  "
      ]
     },
     "execution_count": 5,
     "metadata": {},
     "output_type": "execute_result"
    }
   ],
   "source": [
    "#scaling numerical coloumns\n",
    "from sklearn.preprocessing import MinMaxScaler\n",
    "numerical_coloumns= ['hour_of_day', 'amount', 'ip_prefix', 'login_frequency', 'session_duration']\n",
    "scaler = MinMaxScaler()\n",
    "df[numerical_coloumns]= scaler.fit_transform(df[numerical_coloumns])\n",
    "df.head()"
   ]
  },
  {
   "cell_type": "markdown",
   "metadata": {},
   "source": [
    "### One-hot-encoding of categorical columns"
   ]
  },
  {
   "cell_type": "markdown",
   "metadata": {},
   "source": [
    "Using the get_dummies function we convert the categorical variables into indicator variables. This allows algorithms to interpret categorical data as numerical data, facilitating their inclusion in the model"
   ]
  },
  {
   "cell_type": "code",
   "execution_count": 6,
   "metadata": {
    "colab": {
     "base_uri": "https://localhost:8080/",
     "height": 273
    },
    "id": "beCsFI35JNUh",
    "outputId": "7822d620-53e8-4aab-839d-864612d84262"
   },
   "outputs": [
    {
     "data": {
      "text/html": [
       "<div>\n",
       "<style scoped>\n",
       "    .dataframe tbody tr th:only-of-type {\n",
       "        vertical-align: middle;\n",
       "    }\n",
       "\n",
       "    .dataframe tbody tr th {\n",
       "        vertical-align: top;\n",
       "    }\n",
       "\n",
       "    .dataframe thead th {\n",
       "        text-align: right;\n",
       "    }\n",
       "</style>\n",
       "<table border=\"1\" class=\"dataframe\">\n",
       "  <thead>\n",
       "    <tr style=\"text-align: right;\">\n",
       "      <th></th>\n",
       "      <th>hour_of_day</th>\n",
       "      <th>amount</th>\n",
       "      <th>ip_prefix</th>\n",
       "      <th>login_frequency</th>\n",
       "      <th>session_duration</th>\n",
       "      <th>risk_score</th>\n",
       "      <th>anomaly</th>\n",
       "      <th>transaction_type_phishing</th>\n",
       "      <th>transaction_type_purchase</th>\n",
       "      <th>transaction_type_sale</th>\n",
       "      <th>...</th>\n",
       "      <th>location_region_Asia</th>\n",
       "      <th>location_region_Europe</th>\n",
       "      <th>location_region_North America</th>\n",
       "      <th>location_region_South America</th>\n",
       "      <th>purchase_pattern_focused</th>\n",
       "      <th>purchase_pattern_high_value</th>\n",
       "      <th>purchase_pattern_random</th>\n",
       "      <th>age_group_established</th>\n",
       "      <th>age_group_new</th>\n",
       "      <th>age_group_veteran</th>\n",
       "    </tr>\n",
       "  </thead>\n",
       "  <tbody>\n",
       "    <tr>\n",
       "      <th>0</th>\n",
       "      <td>0.521739</td>\n",
       "      <td>0.511796</td>\n",
       "      <td>0.999078</td>\n",
       "      <td>0.285714</td>\n",
       "      <td>0.201439</td>\n",
       "      <td>18.75</td>\n",
       "      <td>low_risk</td>\n",
       "      <td>False</td>\n",
       "      <td>False</td>\n",
       "      <td>False</td>\n",
       "      <td>...</td>\n",
       "      <td>False</td>\n",
       "      <td>True</td>\n",
       "      <td>False</td>\n",
       "      <td>False</td>\n",
       "      <td>True</td>\n",
       "      <td>False</td>\n",
       "      <td>False</td>\n",
       "      <td>True</td>\n",
       "      <td>False</td>\n",
       "      <td>False</td>\n",
       "    </tr>\n",
       "    <tr>\n",
       "      <th>1</th>\n",
       "      <td>0.826087</td>\n",
       "      <td>0.000000</td>\n",
       "      <td>0.889289</td>\n",
       "      <td>0.571429</td>\n",
       "      <td>0.294964</td>\n",
       "      <td>25.00</td>\n",
       "      <td>low_risk</td>\n",
       "      <td>False</td>\n",
       "      <td>True</td>\n",
       "      <td>False</td>\n",
       "      <td>...</td>\n",
       "      <td>False</td>\n",
       "      <td>False</td>\n",
       "      <td>False</td>\n",
       "      <td>True</td>\n",
       "      <td>True</td>\n",
       "      <td>False</td>\n",
       "      <td>False</td>\n",
       "      <td>True</td>\n",
       "      <td>False</td>\n",
       "      <td>False</td>\n",
       "    </tr>\n",
       "    <tr>\n",
       "      <th>2</th>\n",
       "      <td>0.695652</td>\n",
       "      <td>0.499754</td>\n",
       "      <td>1.000000</td>\n",
       "      <td>0.285714</td>\n",
       "      <td>0.388489</td>\n",
       "      <td>31.25</td>\n",
       "      <td>low_risk</td>\n",
       "      <td>False</td>\n",
       "      <td>True</td>\n",
       "      <td>False</td>\n",
       "      <td>...</td>\n",
       "      <td>True</td>\n",
       "      <td>False</td>\n",
       "      <td>False</td>\n",
       "      <td>False</td>\n",
       "      <td>True</td>\n",
       "      <td>False</td>\n",
       "      <td>False</td>\n",
       "      <td>True</td>\n",
       "      <td>False</td>\n",
       "      <td>False</td>\n",
       "    </tr>\n",
       "    <tr>\n",
       "      <th>3</th>\n",
       "      <td>0.391304</td>\n",
       "      <td>0.193193</td>\n",
       "      <td>0.889289</td>\n",
       "      <td>1.000000</td>\n",
       "      <td>0.654676</td>\n",
       "      <td>36.75</td>\n",
       "      <td>low_risk</td>\n",
       "      <td>False</td>\n",
       "      <td>False</td>\n",
       "      <td>False</td>\n",
       "      <td>...</td>\n",
       "      <td>False</td>\n",
       "      <td>False</td>\n",
       "      <td>False</td>\n",
       "      <td>True</td>\n",
       "      <td>False</td>\n",
       "      <td>True</td>\n",
       "      <td>False</td>\n",
       "      <td>False</td>\n",
       "      <td>False</td>\n",
       "      <td>True</td>\n",
       "    </tr>\n",
       "    <tr>\n",
       "      <th>4</th>\n",
       "      <td>0.608696</td>\n",
       "      <td>0.498066</td>\n",
       "      <td>0.890167</td>\n",
       "      <td>0.714286</td>\n",
       "      <td>0.575540</td>\n",
       "      <td>62.50</td>\n",
       "      <td>moderate_risk</td>\n",
       "      <td>False</td>\n",
       "      <td>False</td>\n",
       "      <td>True</td>\n",
       "      <td>...</td>\n",
       "      <td>False</td>\n",
       "      <td>False</td>\n",
       "      <td>False</td>\n",
       "      <td>False</td>\n",
       "      <td>False</td>\n",
       "      <td>True</td>\n",
       "      <td>False</td>\n",
       "      <td>False</td>\n",
       "      <td>False</td>\n",
       "      <td>True</td>\n",
       "    </tr>\n",
       "  </tbody>\n",
       "</table>\n",
       "<p>5 rows × 23 columns</p>\n",
       "</div>"
      ],
      "text/plain": [
       "   hour_of_day    amount  ip_prefix  login_frequency  session_duration  \\\n",
       "0     0.521739  0.511796   0.999078         0.285714          0.201439   \n",
       "1     0.826087  0.000000   0.889289         0.571429          0.294964   \n",
       "2     0.695652  0.499754   1.000000         0.285714          0.388489   \n",
       "3     0.391304  0.193193   0.889289         1.000000          0.654676   \n",
       "4     0.608696  0.498066   0.890167         0.714286          0.575540   \n",
       "\n",
       "   risk_score        anomaly  transaction_type_phishing  \\\n",
       "0       18.75       low_risk                      False   \n",
       "1       25.00       low_risk                      False   \n",
       "2       31.25       low_risk                      False   \n",
       "3       36.75       low_risk                      False   \n",
       "4       62.50  moderate_risk                      False   \n",
       "\n",
       "   transaction_type_purchase  transaction_type_sale  ...  \\\n",
       "0                      False                  False  ...   \n",
       "1                       True                  False  ...   \n",
       "2                       True                  False  ...   \n",
       "3                      False                  False  ...   \n",
       "4                      False                   True  ...   \n",
       "\n",
       "   location_region_Asia  location_region_Europe  \\\n",
       "0                 False                    True   \n",
       "1                 False                   False   \n",
       "2                  True                   False   \n",
       "3                 False                   False   \n",
       "4                 False                   False   \n",
       "\n",
       "   location_region_North America  location_region_South America  \\\n",
       "0                          False                          False   \n",
       "1                          False                           True   \n",
       "2                          False                          False   \n",
       "3                          False                           True   \n",
       "4                          False                          False   \n",
       "\n",
       "   purchase_pattern_focused  purchase_pattern_high_value  \\\n",
       "0                      True                        False   \n",
       "1                      True                        False   \n",
       "2                      True                        False   \n",
       "3                     False                         True   \n",
       "4                     False                         True   \n",
       "\n",
       "   purchase_pattern_random  age_group_established  age_group_new  \\\n",
       "0                    False                   True          False   \n",
       "1                    False                   True          False   \n",
       "2                    False                   True          False   \n",
       "3                    False                  False          False   \n",
       "4                    False                  False          False   \n",
       "\n",
       "   age_group_veteran  \n",
       "0              False  \n",
       "1              False  \n",
       "2              False  \n",
       "3               True  \n",
       "4               True  \n",
       "\n",
       "[5 rows x 23 columns]"
      ]
     },
     "execution_count": 6,
     "metadata": {},
     "output_type": "execute_result"
    }
   ],
   "source": [
    "#one-hot-encoding\n",
    "import pandas as pd\n",
    "categorical_features = ['transaction_type', 'location_region', 'purchase_pattern', 'age_group']\n",
    "\n",
    "# Use pandas get_dummies to perform one-hot encoding\n",
    "df= pd.get_dummies(df, columns=categorical_features)\n",
    "df.head(5)\n"
   ]
  },
  {
   "cell_type": "markdown",
   "metadata": {},
   "source": [
    "### Linear Regression Model:"
   ]
  },
  {
   "cell_type": "markdown",
   "metadata": {},
   "source": [
    "using the linearRegression model from sklearn to predict the risk_Scores. The following linear regression model predicts the risk_score associated with each transaction"
   ]
  },
  {
   "cell_type": "code",
   "execution_count": 7,
   "metadata": {
    "colab": {
     "base_uri": "https://localhost:8080/",
     "height": 828
    },
    "id": "PWg_ywvRJPh_",
    "outputId": "575e6da0-1c82-4580-f345-56c63856d9d5"
   },
   "outputs": [
    {
     "name": "stdout",
     "output_type": "stream",
     "text": [
      "Some Original and Predicted Risk Values:\n",
      "       Original Risk Score  Predicted Risk Score\n",
      "69753              67.5000              57.87500\n",
      "10632              25.0000              29.12500\n",
      "15147              90.0000              95.75000\n",
      "7285               50.0000              51.68750\n",
      "41654              35.4375              34.12500\n",
      "75402              50.0000              53.46875\n",
      "10674              52.5000              57.18750\n",
      "7363               62.5000              60.00000\n",
      "42228              26.2500              32.37500\n",
      "33524             100.0000             104.90625\n",
      "\n",
      "Root Mean Squared Error: 4.607467182915448\n"
     ]
    }
   ],
   "source": [
    "import pandas as pd\n",
    "from sklearn.model_selection import train_test_split\n",
    "from sklearn.linear_model import LinearRegression\n",
    "from sklearn.metrics import mean_squared_error\n",
    "from sklearn.metrics import r2_score\n",
    "\n",
    "\n",
    "X = df.drop(columns=['anomaly', 'risk_score'])\n",
    "y = df['risk_score']\n",
    "\n",
    "# Splitting the data into training and testing sets\n",
    "X_train, X_test, y_train, y_test = train_test_split(X, y, test_size=0.2, random_state=42)\n",
    "\n",
    "# Initializing the linear regression model\n",
    "reg = LinearRegression()\n",
    "\n",
    "# Training the model\n",
    "reg.fit(X_train, y_train)\n",
    "\n",
    "# Making predictions\n",
    "y_pred = reg.predict(X_test)\n",
    "\n",
    "# Creating a DataFrame to compare original and predicted values\n",
    "results_df = pd.DataFrame({'Original Risk Score': y_test, 'Predicted Risk Score': y_pred})\n",
    "print(\"Some Original and Predicted Risk Values:\")\n",
    "print(results_df.head(10))  # Print the first 10 rows for demonstration purposes\n",
    "\n",
    "# Evaluating the model\n",
    "rmse = mean_squared_error(y_test, y_pred, squared=False)\n",
    "print(\"\\nRoot Mean Squared Error:\", rmse)\n",
    "\n"
   ]
  },
  {
   "cell_type": "markdown",
   "metadata": {},
   "source": [
    "These risk scores seem to be close enough to the actual scores. There is some variation, which is less in some cases but more in other. Overall the model seems to be performing well at predicting the risk scores associated with various transactions."
   ]
  },
  {
   "cell_type": "markdown",
   "metadata": {},
   "source": [
    "**Scatter Plot:**\n",
    "* we create a scatter plot where x-axis represents the actual risk scores and the y-axis represents the predicted risk_scores. Each point on the plt represents a sample from the testing data."
   ]
  },
  {
   "cell_type": "code",
   "execution_count": 8,
   "metadata": {},
   "outputs": [
    {
     "data": {
      "image/png": "[encoded data removed]",
      "text/plain": [
       "<Figure size 1500x600 with 1 Axes>"
      ]
     },
     "metadata": {},
     "output_type": "display_data"
    }
   ],
   "source": [
    "plt.figure(figsize=(15, 6))\n",
    "plt.scatter(y_test, y_pred, color='blue')\n",
    "plt.title('Actual vs Predicted Risk Scores')\n",
    "plt.xlabel('Actual Risk Score')\n",
    "plt.ylabel('Predicted Risk Score')\n",
    "plt.show()\n"
   ]
  },
  {
   "cell_type": "markdown",
   "metadata": {},
   "source": [
    "There is a positive correlation between predicted risk scores and actual risk scores. As the actual risk increases so do the model's predicted values. The model is somewhat successful excepr for a few points where there is a slight difference in the predicted values as sugguested also by the RMSE above."
   ]
  },
  {
   "cell_type": "markdown",
   "metadata": {},
   "source": [
    "**Residual Plot:**\n",
    "* we calculate the residuals(erros) between the actual and predicted values and visualize thier distribution using a histogram plot."
   ]
  },
  {
   "cell_type": "code",
   "execution_count": 9,
   "metadata": {
    "scrolled": true
   },
   "outputs": [
    {
     "data": {
      "image/png": "[encoded data removed]",
      "text/plain": [
       "<Figure size 1000x600 with 1 Axes>"
      ]
     },
     "metadata": {},
     "output_type": "display_data"
    }
   ],
   "source": [
    "# Calculate residuals\n",
    "residuals = y_test - y_pred\n",
    "\n",
    "plt.figure(figsize=(10, 6))\n",
    "sns.histplot(residuals, bins=20, kde=True, color='purple')\n",
    "plt.title('Error Distribution Plot')\n",
    "plt.xlabel('Error')\n",
    "plt.ylabel('Frequency')\n",
    "plt.show()\n"
   ]
  },
  {
   "cell_type": "markdown",
   "metadata": {},
   "source": [
    "The graph is a histogram showing the distribution of errors in the model's predictions. The most frequent residual is 0, i.e the error in the acutal and predicted values in most cases is 0. Only a few points fall further away from the as here are only  a few predictions where the error score reaches -10, and 20. This suggests thath teh errors are random and there is no underlying bias affecting the model predictions. "
   ]
  },
  {
   "cell_type": "markdown",
   "metadata": {},
   "source": [
    "### Logistic Regression Model:"
   ]
  },
  {
   "cell_type": "markdown",
   "metadata": {},
   "source": [
    "using sklearn's logisticRegression model. The following logistic regression model predicts the anomaly label i.e whether there is high_risk, low_risk or moderate_risk associated with a transaction"
   ]
  },
  {
   "cell_type": "code",
   "execution_count": 10,
   "metadata": {
    "colab": {
     "base_uri": "https://localhost:8080/"
    },
    "id": "F9W5Ky7bKseo",
    "outputId": "7bbf0544-57a4-47f0-8ce6-2d9f07508767",
    "scrolled": true
   },
   "outputs": [
    {
     "name": "stdout",
     "output_type": "stream",
     "text": [
      "               precision    recall  f1-score   support\n",
      "\n",
      "    high_risk       1.00      1.00      1.00      1251\n",
      "     low_risk       0.97      0.97      0.97     12848\n",
      "moderate_risk       0.79      0.80      0.79      1621\n",
      "\n",
      "     accuracy                           0.96     15720\n",
      "    macro avg       0.92      0.92      0.92     15720\n",
      " weighted avg       0.96      0.96      0.96     15720\n",
      "\n"
     ]
    }
   ],
   "source": [
    "from sklearn.model_selection import train_test_split\n",
    "from sklearn.linear_model import LogisticRegression\n",
    "from sklearn.metrics import classification_report\n",
    "\n",
    "# Splitting the data into features (X) and target variable (y)\n",
    "X = df.drop(columns=['anomaly', 'risk_score']) \n",
    "y = df['anomaly']\n",
    "\n",
    "# Splitting the data into training and testing sets\n",
    "X_train, X_test, y_train, y_test = train_test_split(X, y, test_size=0.2, random_state=42)\n",
    "\n",
    "# Initializing the logistic regression model\n",
    "clf = LogisticRegression(max_iter=5000)\n",
    "\n",
    "# Training the model\n",
    "clf.fit(X_train, y_train)\n",
    "\n",
    "# Making predictions\n",
    "y_pred = clf.predict(X_test)\n",
    "\n",
    "# Evaluating the model\n",
    "print(classification_report(y_test, y_pred))\n"
   ]
  },
  {
   "cell_type": "markdown",
   "metadata": {},
   "source": [
    "* This classification report shows the precision recall f1_score for each class. \n",
    "* **Precision:** How often a positive prediction is correct. For example, out of all the data points the model predicted as high-risk, how many were actually high-risk?\n",
    "* **Recall:** How often the model identifies all positive cases. For example, out of all the data points that were actually high-risk, how many did the model predict as high-risk?\n",
    "* **F1-Score:** A harmonic mean of precision and recall, and it’s useful when you care about both precision and recall.\n",
    "* **Support:** The total number of data points in each class."
   ]
  },
  {
   "cell_type": "markdown",
   "metadata": {},
   "source": [
    "**BarCharts:**\n",
    "* we create bar charts to visualize the counts of correclty and incorrectly predicted labels for each class. Below is the figure with three subplots one for each class label\n",
    "* we calculate the counts of the correct and incorrect labels for each class by iterating over the classes\n",
    "* the blue bars show the correctly predicted labels whereas the orange bars how the incorrect labels."
   ]
  },
  {
   "cell_type": "code",
   "execution_count": 11,
   "metadata": {
    "colab": {
     "base_uri": "https://localhost:8080/",
     "height": 574
    },
    "id": "koPuCgUnLB33",
    "outputId": "a6d191f9-7703-434a-d113-d046193abdc4",
    "scrolled": true
   },
   "outputs": [
    {
     "data": {
      "image/png": "[encoded data removed]",
      "text/plain": [
       "<Figure size 1500x600 with 3 Axes>"
      ]
     },
     "metadata": {},
     "output_type": "display_data"
    }
   ],
   "source": [
    "# Calculate correctly and incorrectly predicted labels counts for each class\n",
    "classes = ['high_risk', 'low_risk', 'moderate_risk']\n",
    "correct_counts = []\n",
    "incorrect_counts = []\n",
    "for cls in classes:\n",
    "    correct_counts.append(np.sum((y_test == cls) & (y_pred == cls)))\n",
    "    incorrect_counts.append(np.sum((y_test != cls) & (y_pred == cls)))\n",
    "    \n",
    "fig, axs = plt.subplots(1, 3, figsize=(15, 6))\n",
    "for i, cls in enumerate(classes):\n",
    "    axs[i].bar(['Correct', 'Incorrect'], [correct_counts[i], incorrect_counts[i]], color=['blue', 'orange'])\n",
    "    axs[i].set_title(f'{cls.capitalize()} Predictions')\n",
    "    axs[i].set_xlabel('Prediction Accuracy')\n",
    "    axs[i].set_ylabel('Count')\n",
    "\n",
    "plt.tight_layout()\n",
    "plt.show()\n"
   ]
  },
  {
   "cell_type": "markdown",
   "metadata": {},
   "source": [
    "* **High Risk:** the model correctly predicted high_risk associated with 1200 transactions, so it shows that the model is doing well in case of predicting high_risk transactions.\n",
    "* **Low Risk:** the model predicted correcctly the low_risk labels for majority of the transactions, only 400 'low_risk' transactions were incorrecly labeled.\n",
    "* **Moderate Risk:** the model is not doing very well incase of moderate_risk transactions as out of 1200, a total of around 400 were incorrecly labeled.\n",
    "* Overall the model is performing well at predicting the high_risk and low_risk transactions."
   ]
  },
  {
   "cell_type": "markdown",
   "metadata": {},
   "source": [
    "**Heat Map:**\n",
    "* we make use of the scikit-learn's 'confusion_matrix' function to compute the confusion matrix followed by seaborn's heatmap visualzation.\n",
    "* from the heatmap we can see the ture-positives, false-positves, true-negatives and false-negatives for each of the label classe"
   ]
  },
  {
   "cell_type": "code",
   "execution_count": 12,
   "metadata": {
    "colab": {
     "base_uri": "https://localhost:8080/",
     "height": 574
    },
    "id": "_MuUmfpMLVdW",
    "outputId": "65d9e6df-517a-4a92-b7fd-2d0c8f77744b"
   },
   "outputs": [
    {
     "data": {
      "image/png": "[encoded data removed]",
      "text/plain": [
       "<Figure size 800x600 with 2 Axes>"
      ]
     },
     "metadata": {},
     "output_type": "display_data"
    }
   ],
   "source": [
    "from sklearn.metrics import accuracy_score, confusion_matrix\n",
    "import seaborn as sns\n",
    "\n",
    "# Create confusion matrix\n",
    "conf_matrix = confusion_matrix(y_test, y_pred)\n",
    "\n",
    "# Normalize confusion matrix\n",
    "conf_matrix_norm = conf_matrix.astype('float') / conf_matrix.sum(axis=1)[:, np.newaxis]\n",
    "\n",
    "# Plot confusion matrix as a heatmap\n",
    "plt.figure(figsize=(8, 6))\n",
    "sns.heatmap(conf_matrix_norm, annot=True, cmap='Blues', fmt='.2f',  xticklabels=['high_risk', 'low_risk', 'moderate_risk'],\n",
    "            yticklabels=['high_risk', 'low_risk', 'moderate_risk'])\n",
    "plt.title('Confusion Matrix (Normalized)')\n",
    "plt.xlabel('Predicted Label')\n",
    "plt.ylabel('True Label')\n",
    "plt.show()\n"
   ]
  },
  {
   "cell_type": "markdown",
   "metadata": {},
   "source": [
    "* A confusion matrix is a table that is used to evaluate the performance of a classification model. It shows the number of times that the model makes correct and incorrect predictions.\n",
    "* The rows of the confusion matrix represent the actual labels of the data, and the columns represent the predicted labels. For example, the cell at the intersection of the \"low_risk\" row and the \"low_risk\" column shows the proportion of data points that were actually low-risk and were also predicted to be low-risk by the model.\n",
    "* **High Risk:** 1.0 the high_risk intersection shows the true positves i.e the high_risk labels were correcly predicted\n",
    "* **Low Risk:** 0.97 at the low risk intersection shows the 'true positives' for the low_risk label and 0.03 shows the 'false positves' for low_risk transactions which were incorrectly labeld as moderate risk.\n",
    "* **Moderate Risk:** 0.80 at the moderate_risk intersection shows the 'true positives' for the moderate_risk transactions and 0.20 shows the 'false positives' which were incorrecly labeled as low_risk.\n"
   ]
  },
  {
   "cell_type": "code",
   "execution_count": null,
   "metadata": {},
   "outputs": [],
   "source": []
  }
 ],
 "metadata": {
  "colab": {
   "provenance": []
  },
  "kernelspec": {
   "display_name": "Python 3 (ipykernel)",
   "language": "python",
   "name": "python3"
  },
  "language_info": {
   "codemirror_mode": {
    "name": "ipython",
    "version": 3
   },
   "file_extension": ".py",
   "mimetype": "text/x-python",
   "name": "python",
   "nbconvert_exporter": "python",
   "pygments_lexer": "ipython3",
   "version": "3.11.5"
  }
 },
 "nbformat": 4,
 "nbformat_minor": 1
}
